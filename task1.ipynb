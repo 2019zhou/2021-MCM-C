{
  "nbformat": 4,
  "nbformat_minor": 0,
  "metadata": {
    "colab": {
      "name": "第一题.ipynb",
      "provenance": [],
      "collapsed_sections": [],
      "toc_visible": true
    },
    "kernelspec": {
      "name": "python3",
      "display_name": "Python 3"
    }
  },
  "cells": [
    {
      "cell_type": "markdown",
      "metadata": {
        "id": "gw0Ir4eZy4-F"
      },
      "source": [
        "### 数据准备工作\r\n",
        "- 基础的数据读入问题"
      ]
    },
    {
      "cell_type": "code",
      "metadata": {
        "id": "Iv9OJ8hKB_M2"
      },
      "source": [
        "%%bash\r\n",
        "cp /content/drive/MyDrive/2021MCMProblemC_DataSet.xlsx -rf /content/"
      ],
      "execution_count": null,
      "outputs": []
    },
    {
      "cell_type": "code",
      "metadata": {
        "id": "Pb-GPYCmC5Vx"
      },
      "source": [
        "dir = '/content/2021MCMProblemC_DataSet.xlsx'\r\n",
        "import pandas as pd\r\n",
        "\r\n",
        "df = pd.read_excel(dir)"
      ],
      "execution_count": null,
      "outputs": []
    },
    {
      "cell_type": "code",
      "metadata": {
        "colab": {
          "base_uri": "https://localhost:8080/"
        },
        "id": "Pgj4ktgFDsnJ",
        "outputId": "179f393e-3a3b-4c85-f9ef-144ed9cad823"
      },
      "source": [
        "df.info()"
      ],
      "execution_count": null,
      "outputs": [
        {
          "output_type": "stream",
          "text": [
            "<class 'pandas.core.frame.DataFrame'>\n",
            "RangeIndex: 4440 entries, 0 to 4439\n",
            "Data columns (total 8 columns):\n",
            " #   Column           Non-Null Count  Dtype         \n",
            "---  ------           --------------  -----         \n",
            " 0   GlobalID         4440 non-null   object        \n",
            " 1   Detection Date   4440 non-null   object        \n",
            " 2   Notes            4440 non-null   object        \n",
            " 3   Lab Status       4440 non-null   object        \n",
            " 4   Lab Comments     4438 non-null   object        \n",
            " 5   Submission Date  4440 non-null   datetime64[ns]\n",
            " 6   Latitude         4440 non-null   float64       \n",
            " 7   Longitude        4440 non-null   float64       \n",
            "dtypes: datetime64[ns](1), float64(2), object(5)\n",
            "memory usage: 277.6+ KB\n"
          ],
          "name": "stdout"
        }
      ]
    },
    {
      "cell_type": "code",
      "metadata": {
        "colab": {
          "base_uri": "https://localhost:8080/"
        },
        "id": "0aJ-88XIDtrN",
        "outputId": "cc75f7b9-ff77-4302-b5f6-da79a5098cac"
      },
      "source": [
        "df[\"Lab Status\"].value_counts()"
      ],
      "execution_count": null,
      "outputs": [
        {
          "output_type": "execute_result",
          "data": {
            "text/plain": [
              "Unverified     2342\n",
              "Negative ID    2069\n",
              "Unprocessed      15\n",
              "Positive ID      14\n",
              "Name: Lab Status, dtype: int64"
            ]
          },
          "metadata": {
            "tags": []
          },
          "execution_count": 4
        }
      ]
    },
    {
      "cell_type": "code",
      "metadata": {
        "id": "GvP44hqPFsCN",
        "colab": {
          "base_uri": "https://localhost:8080/"
        },
        "outputId": "0d0e5f86-f4bd-4729-df12-4df344caada6"
      },
      "source": [
        "# positiveData 中存放lab Status是positive id\r\n",
        "positiveData = df[df['Lab Status'].isin(['Positive ID'])]\r\n",
        "positiveData['Lab Status'].value_counts()\r\n",
        "\r\n",
        "print(\"below is the positive data info\")\r\n",
        "positiveData.info()"
      ],
      "execution_count": null,
      "outputs": [
        {
          "output_type": "stream",
          "text": [
            "below is the positive data info\n",
            "<class 'pandas.core.frame.DataFrame'>\n",
            "Int64Index: 14 entries, 0 to 4338\n",
            "Data columns (total 8 columns):\n",
            " #   Column           Non-Null Count  Dtype         \n",
            "---  ------           --------------  -----         \n",
            " 0   GlobalID         14 non-null     object        \n",
            " 1   Detection Date   14 non-null     object        \n",
            " 2   Notes            14 non-null     object        \n",
            " 3   Lab Status       14 non-null     object        \n",
            " 4   Lab Comments     14 non-null     object        \n",
            " 5   Submission Date  14 non-null     datetime64[ns]\n",
            " 6   Latitude         14 non-null     float64       \n",
            " 7   Longitude        14 non-null     float64       \n",
            "dtypes: datetime64[ns](1), float64(2), object(5)\n",
            "memory usage: 1008.0+ bytes\n"
          ],
          "name": "stdout"
        }
      ]
    },
    {
      "cell_type": "code",
      "metadata": {
        "colab": {
          "base_uri": "https://localhost:8080/"
        },
        "id": "5G-_sAtkxgA-",
        "outputId": "a460d276-222e-4aed-c7be-73f0b59327aa"
      },
      "source": [
        "cleanedData = df.loc[:,['GlobalID','Detection Date','Notes','Lab Status','Lab Comments','Latitude','Longitude']]\r\n",
        "cleanedData.info()"
      ],
      "execution_count": null,
      "outputs": [
        {
          "output_type": "stream",
          "text": [
            "<class 'pandas.core.frame.DataFrame'>\n",
            "RangeIndex: 4440 entries, 0 to 4439\n",
            "Data columns (total 7 columns):\n",
            " #   Column          Non-Null Count  Dtype  \n",
            "---  ------          --------------  -----  \n",
            " 0   GlobalID        4440 non-null   object \n",
            " 1   Detection Date  4440 non-null   object \n",
            " 2   Notes           4440 non-null   object \n",
            " 3   Lab Status      4440 non-null   object \n",
            " 4   Lab Comments    4438 non-null   object \n",
            " 5   Latitude        4440 non-null   float64\n",
            " 6   Longitude       4440 non-null   float64\n",
            "dtypes: float64(2), object(5)\n",
            "memory usage: 242.9+ KB\n"
          ],
          "name": "stdout"
        }
      ]
    },
    {
      "cell_type": "markdown",
      "metadata": {
        "id": "T4x_yykDAYkg"
      },
      "source": [
        "### 处理日期数据Dectection Date\r\n",
        "- 处理好不符合规定的Dectection Date"
      ]
    },
    {
      "cell_type": "code",
      "metadata": {
        "id": "AsZ097gKAGf9"
      },
      "source": [
        "from datetime import datetime\r\n",
        "import re\r\n",
        "\r\n",
        "dataCleaned2 = pd.DataFrame(columns=['GlobalID','Detection Date','Notes','Lab Status','Lab Comments','Latitude','Longitude'])\r\n",
        "\r\n",
        "for index, row in cleanedData.iterrows():\r\n",
        "  match = re.search(r'\\d{4}-\\d{1,2}-\\d{1,2}', str(row[\"Detection Date\"]))\r\n",
        "  if match == None:\r\n",
        "    continue\r\n",
        "  tmp = datetime.strptime(match.group(), '%Y-%m-%d').date()\r\n",
        "  month = tmp.month\r\n",
        "  year = tmp.year\r\n",
        "  day = tmp.day\r\n",
        "  dataCleaned2 = dataCleaned2.append({'GlobalID':row[\"GlobalID\"],'Detection Date':row[\"Detection Date\"],'Notes':row[\"Notes\"],'Lab Status':row[\"Lab Status\"],'Lab Comments':row[\"Lab Comments\"],'Latitude':row[\"Latitude\"],'Longitude':row[\"Longitude\"]},ignore_index=True)"
      ],
      "execution_count": null,
      "outputs": []
    },
    {
      "cell_type": "code",
      "metadata": {
        "colab": {
          "base_uri": "https://localhost:8080/"
        },
        "id": "ujYU2EgFGXQb",
        "outputId": "eae467ed-6c53-4c54-d489-ea6e7e79d528"
      },
      "source": [
        "dataCleaned2.info()"
      ],
      "execution_count": null,
      "outputs": [
        {
          "output_type": "stream",
          "text": [
            "<class 'pandas.core.frame.DataFrame'>\n",
            "RangeIndex: 4426 entries, 0 to 4425\n",
            "Data columns (total 7 columns):\n",
            " #   Column          Non-Null Count  Dtype         \n",
            "---  ------          --------------  -----         \n",
            " 0   GlobalID        4426 non-null   object        \n",
            " 1   Detection Date  4426 non-null   datetime64[ns]\n",
            " 2   Notes           4426 non-null   object        \n",
            " 3   Lab Status      4426 non-null   object        \n",
            " 4   Lab Comments    4424 non-null   object        \n",
            " 5   Latitude        4426 non-null   float64       \n",
            " 6   Longitude       4426 non-null   float64       \n",
            "dtypes: datetime64[ns](1), float64(2), object(4)\n",
            "memory usage: 242.2+ KB\n"
          ],
          "name": "stdout"
        }
      ]
    },
    {
      "cell_type": "code",
      "metadata": {
        "id": "yKB11IacEFTJ"
      },
      "source": [
        "dataCleaned2.to_csv(\"cleaned_data_VM.csv\", index=False)"
      ],
      "execution_count": null,
      "outputs": []
    },
    {
      "cell_type": "code",
      "metadata": {
        "colab": {
          "base_uri": "https://localhost:8080/"
        },
        "id": "TFnWPUg-fFkh",
        "outputId": "2440852f-8614-4076-e041-200982b808b9"
      },
      "source": [
        "positiveData = dataCleaned2[dataCleaned2['Lab Status'].isin(['Positive ID'])]\r\n",
        "positiveData['Lab Status'].value_counts()\r\n",
        "\r\n",
        "print(\"below is the positive data info\")\r\n",
        "positiveData.info()"
      ],
      "execution_count": null,
      "outputs": [
        {
          "output_type": "stream",
          "text": [
            "below is the positive data info\n",
            "<class 'pandas.core.frame.DataFrame'>\n",
            "Int64Index: 14 entries, 0 to 4325\n",
            "Data columns (total 7 columns):\n",
            " #   Column          Non-Null Count  Dtype         \n",
            "---  ------          --------------  -----         \n",
            " 0   GlobalID        14 non-null     object        \n",
            " 1   Detection Date  14 non-null     datetime64[ns]\n",
            " 2   Notes           14 non-null     object        \n",
            " 3   Lab Status      14 non-null     object        \n",
            " 4   Lab Comments    14 non-null     object        \n",
            " 5   Latitude        14 non-null     float64       \n",
            " 6   Longitude       14 non-null     float64       \n",
            "dtypes: datetime64[ns](1), float64(2), object(4)\n",
            "memory usage: 896.0+ bytes\n"
          ],
          "name": "stdout"
        }
      ]
    },
    {
      "cell_type": "code",
      "metadata": {
        "id": "sfhyXouCf4Pm"
      },
      "source": [
        "positiveData.to_csv(\"positive.csv\", index=False)"
      ],
      "execution_count": null,
      "outputs": []
    },
    {
      "cell_type": "markdown",
      "metadata": {
        "id": "upybiyIUIqvM"
      },
      "source": [
        "### 根据地理位置进行聚类\r\n",
        "- 使用经度纬度进行一次聚类\r\n",
        "- 根据时间梳理出现的个数，使用excel实现"
      ]
    },
    {
      "cell_type": "code",
      "metadata": {
        "colab": {
          "base_uri": "https://localhost:8080/"
        },
        "id": "DP5F87vKLHmt",
        "outputId": "ef5b0af8-ee2f-4108-fdeb-d89c980eb902"
      },
      "source": [
        "%%bash\r\n",
        "pip install kneed"
      ],
      "execution_count": null,
      "outputs": [
        {
          "output_type": "stream",
          "text": [
            "Collecting kneed\n",
            "  Downloading https://files.pythonhosted.org/packages/c3/6b/e130913aaaad1373060e259ab222ca2330672db696b297b082c3f3089fcc/kneed-0.7.0-py2.py3-none-any.whl\n",
            "Requirement already satisfied: matplotlib in /usr/local/lib/python3.6/dist-packages (from kneed) (3.2.2)\n",
            "Requirement already satisfied: scipy in /usr/local/lib/python3.6/dist-packages (from kneed) (1.4.1)\n",
            "Requirement already satisfied: numpy>=1.14.2 in /usr/local/lib/python3.6/dist-packages (from kneed) (1.19.5)\n",
            "Requirement already satisfied: kiwisolver>=1.0.1 in /usr/local/lib/python3.6/dist-packages (from matplotlib->kneed) (1.3.1)\n",
            "Requirement already satisfied: pyparsing!=2.0.4,!=2.1.2,!=2.1.6,>=2.0.1 in /usr/local/lib/python3.6/dist-packages (from matplotlib->kneed) (2.4.7)\n",
            "Requirement already satisfied: python-dateutil>=2.1 in /usr/local/lib/python3.6/dist-packages (from matplotlib->kneed) (2.8.1)\n",
            "Requirement already satisfied: cycler>=0.10 in /usr/local/lib/python3.6/dist-packages (from matplotlib->kneed) (0.10.0)\n",
            "Requirement already satisfied: six>=1.5 in /usr/local/lib/python3.6/dist-packages (from python-dateutil>=2.1->matplotlib->kneed) (1.15.0)\n",
            "Installing collected packages: kneed\n",
            "Successfully installed kneed-0.7.0\n"
          ],
          "name": "stdout"
        }
      ]
    },
    {
      "cell_type": "markdown",
      "metadata": {
        "id": "O7dcg5PaxqKt"
      },
      "source": [
        "### 分析14个positive例子\r\n",
        "- 已知了一个蜂窝位置\r\n",
        "- 计算其他所有点和这个蜂窝位置的距离\r\n",
        "- 这里主要是做的事位置方面的聚类"
      ]
    },
    {
      "cell_type": "code",
      "metadata": {
        "colab": {
          "base_uri": "https://localhost:8080/"
        },
        "id": "G6t9oK1uxpym",
        "outputId": "324af901-0856-46f7-818e-b2acf5427354"
      },
      "source": [
        "from math import radians, cos, sin, asin, sqrt\r\n",
        "\r\n",
        "def geo_distance(lon1, lat1, lon2, lat2):  #地理距离\r\n",
        "    \"\"\"\r\n",
        "    Calculate the great circle distance between two points\r\n",
        "    on the earth (specified in decimal degrees)\r\n",
        "    \"\"\"\r\n",
        "    lon1, lat1, lon2, lat2 = map(radians, map(float, [lon1, lat1, lon2, lat2]))  #根据提供的函数对指定序列做映，radians:将角度转换为弧度。\r\n",
        "    dlon = lon2 - lon1\r\n",
        "    dlat = lat2 - lat1\r\n",
        "    a = sin(dlat/2)**2 + cos(lat1) * cos(lat2) * sin(dlon/2)**2\r\n",
        "    c = 2 * asin(sqrt(a))\r\n",
        "    r = 6371\r\n",
        "    return c * r\r\n",
        "\r\n",
        "distance = []\r\n",
        "\r\n",
        "centerla = 49.149394\r\n",
        "centerlo = -123.943134\r\n",
        "\r\n",
        "for index,row in positiveData.iterrows():\r\n",
        "  la = row[\"Latitude\"]\r\n",
        "  lo = row[\"Longitude\"]\r\n",
        "  distance.append(geo_distance(lo,la,centerlo,centerla))\r\n",
        "\r\n",
        "print(distance)\r\n"
      ],
      "execution_count": null,
      "outputs": [
        {
          "output_type": "stream",
          "text": [
            "[93.30312612421889, 92.6326566792523, 0.0, 95.88277413703294, 83.60541197647672, 95.26034430651583, 118.72626737560653, 92.03111711693589, 90.75240789063088, 101.361248154428, 100.9963172316743, 100.83181799009736, 101.3696742368978, 101.36822993204541]\n"
          ],
          "name": "stdout"
        }
      ]
    },
    {
      "cell_type": "code",
      "metadata": {
        "colab": {
          "base_uri": "https://localhost:8080/"
        },
        "id": "dyQ0pfxI6_Nu",
        "outputId": "c295e3a3-c988-4511-b75f-5dacd56daa60"
      },
      "source": [
        "positiveData.info()"
      ],
      "execution_count": null,
      "outputs": [
        {
          "output_type": "stream",
          "text": [
            "<class 'pandas.core.frame.DataFrame'>\n",
            "Int64Index: 14 entries, 0 to 4325\n",
            "Data columns (total 7 columns):\n",
            " #   Column          Non-Null Count  Dtype         \n",
            "---  ------          --------------  -----         \n",
            " 0   GlobalID        14 non-null     object        \n",
            " 1   Detection Date  14 non-null     datetime64[ns]\n",
            " 2   Notes           14 non-null     object        \n",
            " 3   Lab Status      14 non-null     object        \n",
            " 4   Lab Comments    14 non-null     object        \n",
            " 5   Latitude        14 non-null     float64       \n",
            " 6   Longitude       14 non-null     float64       \n",
            "dtypes: datetime64[ns](1), float64(2), object(4)\n",
            "memory usage: 896.0+ bytes\n"
          ],
          "name": "stdout"
        }
      ]
    },
    {
      "cell_type": "code",
      "metadata": {
        "id": "HUxSW_aK7MDm"
      },
      "source": [
        "positiveData2 = positiveData.loc[:, ['Latitude','Longitude','Detection Date']]"
      ],
      "execution_count": null,
      "outputs": []
    },
    {
      "cell_type": "code",
      "metadata": {
        "id": "WRORO19h7nNN"
      },
      "source": [
        "positiveData2.to_csv(\"input.txt\", index=False)"
      ],
      "execution_count": null,
      "outputs": []
    },
    {
      "cell_type": "markdown",
      "metadata": {
        "id": "vDweCm6c1F50"
      },
      "source": [
        "#### 分析\r\n",
        "1. 因为这个这个蜂窝和其他发现的黄蜂之间的距离 > 8km（补充材料中说明这是黄蜂最大发现的一个距离），所以这些黄蜂应该是在其他地方还有窝点\r\n",
        "2. 删除蜂窝的位置坐标的数据，对于其他的零散数据进行聚类分析，+-8,不大于16km, \r\n",
        "所以最后分析出来的数据两个经纬度之间差距不会超过16km\r\n",
        "3. 由于提供经纬度坐标计算两者之间的距离和普通的计算不相同，所以这里只能使用自己的python文件\r\n"
      ]
    },
    {
      "cell_type": "code",
      "metadata": {
        "colab": {
          "base_uri": "https://localhost:8080/"
        },
        "id": "fBZUWBvsOrzY",
        "outputId": "cab17c66-84ff-4dd2-ca03-6ad681eb358b"
      },
      "source": [
        "%%bash\r\n",
        "pip3 install hdbscan"
      ],
      "execution_count": null,
      "outputs": [
        {
          "output_type": "stream",
          "text": [
            "Collecting hdbscan\n",
            "  Using cached https://files.pythonhosted.org/packages/32/bb/59a75bc5ac66a9b4f9b8f979e4545af0e98bb1ca4e6ae96b3b956b554223/hdbscan-0.8.27.tar.gz\n",
            "  Installing build dependencies: started\n",
            "  Installing build dependencies: finished with status 'done'\n",
            "  Getting requirements to build wheel: started\n",
            "  Getting requirements to build wheel: finished with status 'done'\n",
            "    Preparing wheel metadata: started\n",
            "    Preparing wheel metadata: finished with status 'done'\n",
            "Requirement already satisfied: cython>=0.27 in /usr/local/lib/python3.6/dist-packages (from hdbscan) (0.29.21)\n",
            "Requirement already satisfied: joblib>=1.0 in /usr/local/lib/python3.6/dist-packages (from hdbscan) (1.0.0)\n",
            "Requirement already satisfied: six in /usr/local/lib/python3.6/dist-packages (from hdbscan) (1.15.0)\n",
            "Requirement already satisfied: scikit-learn>=0.20 in /usr/local/lib/python3.6/dist-packages (from hdbscan) (0.22.2.post1)\n",
            "Requirement already satisfied: scipy>=1.0 in /usr/local/lib/python3.6/dist-packages (from hdbscan) (1.4.1)\n",
            "Requirement already satisfied: numpy>=1.16 in /usr/local/lib/python3.6/dist-packages (from hdbscan) (1.19.5)\n",
            "Building wheels for collected packages: hdbscan\n",
            "  Building wheel for hdbscan (PEP 517): started\n",
            "  Building wheel for hdbscan (PEP 517): finished with status 'done'\n",
            "  Created wheel for hdbscan: filename=hdbscan-0.8.27-cp36-cp36m-linux_x86_64.whl size=2311392 sha256=75f8181b1dba539dbcb7c8e169a1703a135b1ffce9742578bf3e5421e31e76e0\n",
            "  Stored in directory: /root/.cache/pip/wheels/42/63/fb/314ad6c3b270887a3ecb588b8e5aac50b0fad38ff89bb6dff2\n",
            "Successfully built hdbscan\n",
            "Installing collected packages: hdbscan\n",
            "Successfully installed hdbscan-0.8.27\n"
          ],
          "name": "stdout"
        }
      ]
    },
    {
      "cell_type": "code",
      "metadata": {
        "id": "WLIQHJ-D8TBl"
      },
      "source": [
        "import hdbscan\r\n",
        "import numpy as np\r\n",
        "df3 = pd.read_csv(\"input.txt\")\r\n",
        "df3 = df3.loc[:, [\"Latitude\", \"Longitude\"]]\r\n",
        "points = np.array(df3)\r\n",
        "rads = np.radians(points)\r\n",
        "clusterer = hdbscan.HDBSCAN(min_cluster_size=2, metric='haversine')\r\n",
        "cluster_labels = clusterer.fit_predict(points)"
      ],
      "execution_count": null,
      "outputs": []
    },
    {
      "cell_type": "code",
      "metadata": {
        "colab": {
          "base_uri": "https://localhost:8080/"
        },
        "id": "31hFvdwECzoo",
        "outputId": "7c9e6c86-3828-4104-8308-cb26887aedd4"
      },
      "source": [
        "print(cluster_labels)"
      ],
      "execution_count": null,
      "outputs": [
        {
          "output_type": "stream",
          "text": [
            "[ 0  0 -1  0 -1 -1 -1  0 -1  1  1  1  1  1]\n"
          ],
          "name": "stdout"
        }
      ]
    },
    {
      "cell_type": "code",
      "metadata": {
        "id": "EcSTSMZhDqgo"
      },
      "source": [
        "from pandas.core.frame import DataFrame\r\n",
        "df4 = pd.read_csv(\"input.txt\") \r\n",
        "setCluster = set(cluster_labels)\r\n",
        "dicCluster = {\"label\":cluster_labels}\r\n",
        "dfCluster = DataFrame(dicCluster)\r\n",
        "dfConcat = pd.concat([df3, dfCluster], axis=1)"
      ],
      "execution_count": null,
      "outputs": []
    },
    {
      "cell_type": "code",
      "metadata": {
        "colab": {
          "base_uri": "https://localhost:8080/"
        },
        "id": "inZ4geBcUFwR",
        "outputId": "3d6bdd59-2359-463a-dedc-56bf3f8073b1"
      },
      "source": [
        "dfConcat.info()"
      ],
      "execution_count": null,
      "outputs": [
        {
          "output_type": "stream",
          "text": [
            "<class 'pandas.core.frame.DataFrame'>\n",
            "RangeIndex: 14 entries, 0 to 13\n",
            "Data columns (total 3 columns):\n",
            " #   Column     Non-Null Count  Dtype  \n",
            "---  ------     --------------  -----  \n",
            " 0   Latitude   14 non-null     float64\n",
            " 1   Longitude  14 non-null     float64\n",
            " 2   label      14 non-null     int64  \n",
            "dtypes: float64(2), int64(1)\n",
            "memory usage: 464.0 bytes\n"
          ],
          "name": "stdout"
        }
      ]
    },
    {
      "cell_type": "code",
      "metadata": {
        "id": "bww8SStvf_bS"
      },
      "source": [
        "dfConcat.to_csv(\"dfConcat.result\", index=False)"
      ],
      "execution_count": null,
      "outputs": []
    },
    {
      "cell_type": "code",
      "metadata": {
        "colab": {
          "base_uri": "https://localhost:8080/"
        },
        "id": "yWG5fc_XNwQ2",
        "outputId": "120d18a5-0ebb-4b78-ecd0-5b9b799b1012"
      },
      "source": [
        "dfCluster1 = np.array(dfConcat[dfConcat['label'].isin([-1])])\r\n",
        "dfCluster2 = np.array(dfConcat[dfConcat['label'].isin([0])])\r\n",
        "dfCluster3 = np.array(dfConcat[dfConcat['label'].isin([1])])\r\n",
        "dfCluster4 = np.array(dfConcat[dfConcat['label'].isin([2])])\r\n",
        "dflist = [dfCluster1, dfCluster2, dfCluster3, dfCluster4]\r\n",
        "for dfName in dflist:\r\n",
        "  print(dfName)\r\n",
        "  print(type(dfName))"
      ],
      "execution_count": null,
      "outputs": [
        {
          "output_type": "stream",
          "text": [
            "[[  49.149394 -123.943134   -1.      ]\n",
            " [  49.025831 -122.810653   -1.      ]\n",
            " [  49.060215 -122.641648   -1.      ]\n",
            " [  48.777534 -122.418612   -1.      ]\n",
            " [  48.927519 -122.745016   -1.      ]]\n",
            "<class 'numpy.ndarray'>\n",
            "[[  48.980994 -122.688503    0.      ]\n",
            " [  48.971949 -122.700941    0.      ]\n",
            " [  48.955587 -122.661037    0.      ]\n",
            " [  48.993892 -122.702242    0.      ]]\n",
            "<class 'numpy.ndarray'>\n",
            "[[  48.984269 -122.574809    1.      ]\n",
            " [  48.979497 -122.581335    1.      ]\n",
            " [  48.983375 -122.582465    1.      ]\n",
            " [  48.984172 -122.57472     1.      ]\n",
            " [  48.98422  -122.574726    1.      ]]\n",
            "<class 'numpy.ndarray'>\n",
            "[]\n",
            "<class 'numpy.ndarray'>\n"
          ],
          "name": "stdout"
        }
      ]
    },
    {
      "cell_type": "code",
      "metadata": {
        "colab": {
          "base_uri": "https://localhost:8080/"
        },
        "id": "JoEjkt1USRdM",
        "outputId": "db04d6a1-87b8-4f9a-9b8b-dcbba0bc1d97"
      },
      "source": [
        "dflist = [dfCluster1, dfCluster2, dfCluster3, dfCluster4]\r\n",
        "for dfName in dflist:\r\n",
        "  [rows, cols] = dfName.shape\r\n",
        "  print(rows, cols)\r\n",
        "  print(\"this is dfName part start\")\r\n",
        "  for i in range(rows):\r\n",
        "    la = dfName[i][0]\r\n",
        "    lo = dfName[i][1]\r\n",
        "    sign = 0\r\n",
        "    for j in range(rows):\r\n",
        "      if j == i:\r\n",
        "        continue\r\n",
        "      la2 = dfName[j][0]\r\n",
        "      lo2 = dfName[j][1]\r\n",
        "      distancetmp = geo_distance(lo, la, lo2, la2)\r\n",
        "      print(distancetmp, end='\\t')\r\n",
        "      if distancetmp < 16:\r\n",
        "        sign = 1\r\n",
        "        break\r\n",
        "    if sign == 0:\r\n",
        "      print(\"this node does not qualify\")\r\n",
        "    print(\"\")"
      ],
      "execution_count": null,
      "outputs": [
        {
          "output_type": "stream",
          "text": [
            "5 3\n",
            "this is dfName part start\n",
            "83.60541197647854\t95.26034430651768\t118.72626737560827\t90.75240789063426\tthis node does not qualify\n",
            "\n",
            "83.60541197647854\t12.898027674633044\t\n",
            "95.26034430651768\t12.898027674633044\t\n",
            "118.72626737560827\t39.79238436853365\t35.40629127813077\t29.128617197125383\tthis node does not qualify\n",
            "\n",
            "90.75240789063426\t11.93536418603599\t\n",
            "4 3\n",
            "this is dfName part start\n",
            "1.3548523639440426\t\n",
            "1.3548523639440426\t\n",
            "3.46426162828179\t\n",
            "1.7498431011458744\t\n",
            "5 3\n",
            "this is dfName part start\n",
            "0.7130019424951126\t\n",
            "0.7130019424951126\t\n",
            "0.5674649205790073\t\n",
            "0.012590322823963232\t\n",
            "0.008146873900023879\t\n",
            "0 3\n",
            "this is dfName part start\n"
          ],
          "name": "stdout"
        }
      ]
    },
    {
      "cell_type": "markdown",
      "metadata": {
        "id": "tw5Aks1mdYIs"
      },
      "source": [
        "#### 分析总结\r\n",
        "- 可以发现后面三个的聚类都非常好\r\n",
        "- 聚类都在距离都在2，3千米的位置\r\n",
        "- 但是第一个聚类没有很好"
      ]
    },
    {
      "cell_type": "code",
      "metadata": {
        "colab": {
          "base_uri": "https://localhost:8080/"
        },
        "id": "8FdT-GArdp9j",
        "outputId": "2c789351-f377-4d36-8631-3ca61f222627"
      },
      "source": [
        "# 计算第一个聚类和其他的最短距离\r\n",
        "[rows, cols] = dfCluster1.shape\r\n",
        "for i in range(rows):\r\n",
        "  la = dfCluster1[i][0]\r\n",
        "  lo = dfCluster1[i][1]\r\n",
        "  sign = 0\r\n",
        "  curdisshortest = 100000\r\n",
        "  print(\"start this node computing\")\r\n",
        "  for j in range(rows):\r\n",
        "    if j == i:\r\n",
        "      continue\r\n",
        "    la2 = dfCluster1[j][0]\r\n",
        "    lo2 = dfCluster1[j][1]\r\n",
        "    distancetmp = geo_distance(lo, la, lo2, la2)\r\n",
        "    print(distancetmp, end='\\t')\r\n",
        "    curdisshortest = min(curdisshortest, distancetmp)\r\n",
        "    if distancetmp < 16:\r\n",
        "      sign = 1\r\n",
        "      break\r\n",
        "  if sign == 0:\r\n",
        "    print(\"this node does not qualify\")\r\n",
        "  print(\"\\n\" + str(curdisshortest))"
      ],
      "execution_count": null,
      "outputs": [
        {
          "output_type": "stream",
          "text": [
            "start this node computing\n",
            "83.60541197647854\t95.26034430651768\t118.72626737560827\t90.75240789063426\tthis node does not qualify\n",
            "\n",
            "83.60541197647854\n",
            "start this node computing\n",
            "83.60541197647854\t12.898027674633044\t\n",
            "12.898027674633044\n",
            "start this node computing\n",
            "95.26034430651768\t12.898027674633044\t\n",
            "12.898027674633044\n",
            "start this node computing\n",
            "118.72626737560827\t39.79238436853365\t35.40629127813077\t29.128617197125383\tthis node does not qualify\n",
            "\n",
            "29.128617197125383\n",
            "start this node computing\n",
            "90.75240789063426\t11.93536418603599\t\n",
            "11.93536418603599\n"
          ],
          "name": "stdout"
        }
      ]
    },
    {
      "cell_type": "markdown",
      "metadata": {
        "id": "qBwN6nHOhnDN"
      },
      "source": [
        "#### 分析结论\r\n",
        "- 观测得出之间的距离都非常远\r\n",
        "- 也许都不是一个源点"
      ]
    },
    {
      "cell_type": "markdown",
      "metadata": {
        "id": "2hun9UM9jpid"
      },
      "source": [
        "### 时间序列模型\r\n",
        "- 时间序列模型基本绘图\r\n",
        "- 时间序列模型,由于ARMA更容易适合于比较大的数据集中，所以这里选择比较简单的模型"
      ]
    },
    {
      "cell_type": "code",
      "metadata": {
        "colab": {
          "base_uri": "https://localhost:8080/"
        },
        "id": "qnxkgltblT3-",
        "outputId": "d3eef110-2759-49ba-b378-47c0e0e8fd30"
      },
      "source": [
        "positiveData.info()"
      ],
      "execution_count": null,
      "outputs": [
        {
          "output_type": "stream",
          "text": [
            "<class 'pandas.core.frame.DataFrame'>\n",
            "Int64Index: 14 entries, 0 to 4325\n",
            "Data columns (total 7 columns):\n",
            " #   Column          Non-Null Count  Dtype         \n",
            "---  ------          --------------  -----         \n",
            " 0   GlobalID        14 non-null     object        \n",
            " 1   Detection Date  14 non-null     datetime64[ns]\n",
            " 2   Notes           14 non-null     object        \n",
            " 3   Lab Status      14 non-null     object        \n",
            " 4   Lab Comments    14 non-null     object        \n",
            " 5   Latitude        14 non-null     float64       \n",
            " 6   Longitude       14 non-null     float64       \n",
            "dtypes: datetime64[ns](1), float64(2), object(4)\n",
            "memory usage: 896.0+ bytes\n"
          ],
          "name": "stdout"
        }
      ]
    },
    {
      "cell_type": "code",
      "metadata": {
        "colab": {
          "base_uri": "https://localhost:8080/",
          "height": 707
        },
        "id": "54n8Z5sUjo76",
        "outputId": "61d85f86-e37c-4593-fd2a-cd1c651b2211"
      },
      "source": [
        "# 随时间变化和开始蜂窝点（2019.9.19发现的）的距离\r\n",
        "import matplotlib.pyplot as plt\r\n",
        "originLa = 49.149394\r\n",
        "originLo = -123.943134\r\n",
        "\r\n",
        "positiveDic = {}\r\n",
        "positiveData.sort_values(\"Detection Date\",inplace=True)\r\n",
        "for index,row in positiveData.iterrows():\r\n",
        "  la = row[\"Latitude\"]\r\n",
        "  lo = row[\"Longitude\"]\r\n",
        "  distmp = geo_distance(lo,la,originLo, originLa)\r\n",
        "  if distmp == 0:\r\n",
        "    continue\r\n",
        "  positiveDic[row[\"Detection Date\"]] = distmp\r\n",
        "\r\n",
        "df4 = pd.DataFrame.from_dict(positiveDic, orient='index')\r\n",
        "print(df4)\r\n",
        "# df4[\"num\"].plot()\r\n",
        "ts = df4[0]\r\n",
        "print(df4.index)\r\n",
        "plt.plot(ts)"
      ],
      "execution_count": null,
      "outputs": [
        {
          "output_type": "stream",
          "text": [
            "                     0\n",
            "2019-09-30   92.031117\n",
            "2019-10-30   92.632657\n",
            "2019-11-13   83.605412\n",
            "2019-12-08   93.303126\n",
            "2020-05-15   95.260344\n",
            "2020-05-27   95.882774\n",
            "2020-06-07  118.726267\n",
            "2020-08-17   90.752408\n",
            "2020-09-21  101.361248\n",
            "2020-09-28  101.368230\n",
            "2020-09-29  101.369674\n",
            "2020-09-30  100.996317\n",
            "2020-10-01  100.831818\n",
            "DatetimeIndex(['2019-09-30', '2019-10-30', '2019-11-13', '2019-12-08',\n",
            "               '2020-05-15', '2020-05-27', '2020-06-07', '2020-08-17',\n",
            "               '2020-09-21', '2020-09-28', '2020-09-29', '2020-09-30',\n",
            "               '2020-10-01'],\n",
            "              dtype='datetime64[ns]', freq=None)\n"
          ],
          "name": "stdout"
        },
        {
          "output_type": "stream",
          "text": [
            "/usr/local/lib/python3.6/dist-packages/ipykernel_launcher.py:7: SettingWithCopyWarning: \n",
            "A value is trying to be set on a copy of a slice from a DataFrame\n",
            "\n",
            "See the caveats in the documentation: https://pandas.pydata.org/pandas-docs/stable/user_guide/indexing.html#returning-a-view-versus-a-copy\n",
            "  import sys\n"
          ],
          "name": "stderr"
        },
        {
          "output_type": "execute_result",
          "data": {
            "text/plain": [
              "[<matplotlib.lines.Line2D at 0x7fc0ae40e1d0>]"
            ]
          },
          "metadata": {
            "tags": []
          },
          "execution_count": 28
        },
        {
          "output_type": "display_data",
          "data": {
            "image/png": "[encoded data removed]",
            "text/plain": [
              "<Figure size 432x288 with 1 Axes>"
            ]
          },
          "metadata": {
            "tags": [],
            "needs_background": "light"
          }
        }
      ]
    },
    {
      "cell_type": "code",
      "metadata": {
        "id": "2Jbn79XUbJyE"
      },
      "source": [
        "positiveData.to_csv(\"looktmp\")"
      ],
      "execution_count": null,
      "outputs": []
    },
    {
      "cell_type": "code",
      "metadata": {
        "colab": {
          "base_uri": "https://localhost:8080/",
          "height": 906
        },
        "id": "EblLfQzjPb5Z",
        "outputId": "5114cabe-a8e5-4700-aa24-1c70e5eab000"
      },
      "source": [
        "# 随时间变化黄蜂数量的增长\r\n",
        "import matplotlib.pyplot as plt\r\n",
        "originLa = 49.149394\r\n",
        "originLo = -123.943134\r\n",
        "\r\n",
        "\r\n",
        "positiveDic2 = {}\r\n",
        "positiveDic2[\"19-07\"]=0\r\n",
        "positiveDic2[\"19-08\"]=0\r\n",
        "positiveData.sort_values(\"Detection Date\",inplace=True)\r\n",
        "for index,row in positiveData.iterrows():\r\n",
        "  row[\"Detection Date\"]\r\n",
        "  match = re.search(r'\\d{4}-\\d{1,2}-\\d{1,2}', str(row[\"Detection Date\"]))\r\n",
        "  tmp = datetime.strptime(match.group(), '%Y-%m-%d').date()\r\n",
        "  month = tmp.month\r\n",
        "  year = tmp.year\r\n",
        "  print(year)\r\n",
        "  thistime = str(year)[2:4] +\"-\"+ str(month).zfill(2)\r\n",
        "  print(thistime)\r\n",
        "  if thistime not in positiveDic2:\r\n",
        "    positiveDic2[thistime] = 1\r\n",
        "  else:\r\n",
        "    positiveDic2[thistime] += 1\r\n",
        "  \r\n",
        "\r\n",
        "df4 = pd.DataFrame.from_dict(positiveDic2, orient='index')\r\n",
        "df4.to_excel(\"resultNum.xls\", index=False)\r\n",
        "# df4[\"num\"].plot()\r\n",
        "ts = df4[0]\r\n",
        "print(df4.index)\r\n",
        "plt.plot(ts)"
      ],
      "execution_count": null,
      "outputs": [
        {
          "output_type": "stream",
          "text": [
            "2019\n",
            "19-09\n",
            "2019\n",
            "19-09\n",
            "2019\n",
            "19-10\n",
            "2019\n",
            "19-11\n",
            "2019\n",
            "19-12\n",
            "2020\n",
            "20-05\n",
            "2020\n",
            "20-05\n",
            "2020\n",
            "20-06\n",
            "2020\n",
            "20-08\n",
            "2020\n",
            "20-09\n",
            "2020\n",
            "20-09\n",
            "2020\n",
            "20-09\n",
            "2020\n",
            "20-09\n",
            "2020\n",
            "20-10\n",
            "Index(['19-07', '19-08', '19-09', '19-10', '19-11', '19-12', '20-05', '20-06',\n",
            "       '20-08', '20-09', '20-10'],\n",
            "      dtype='object')\n"
          ],
          "name": "stdout"
        },
        {
          "output_type": "stream",
          "text": [
            "/usr/local/lib/python3.6/dist-packages/ipykernel_launcher.py:10: SettingWithCopyWarning: \n",
            "A value is trying to be set on a copy of a slice from a DataFrame\n",
            "\n",
            "See the caveats in the documentation: https://pandas.pydata.org/pandas-docs/stable/user_guide/indexing.html#returning-a-view-versus-a-copy\n",
            "  # Remove the CWD from sys.path while we load stuff.\n"
          ],
          "name": "stderr"
        },
        {
          "output_type": "execute_result",
          "data": {
            "text/plain": [
              "[<matplotlib.lines.Line2D at 0x7fc0991fb278>]"
            ]
          },
          "metadata": {
            "tags": []
          },
          "execution_count": 30
        },
        {
          "output_type": "display_data",
          "data": {
            "image/png": "[encoded data removed]",
            "text/plain": [
              "<Figure size 432x288 with 1 Axes>"
            ]
          },
          "metadata": {
            "tags": [],
            "needs_background": "light"
          }
        }
      ]
    },
    {
      "cell_type": "code",
      "metadata": {
        "colab": {
          "base_uri": "https://localhost:8080/"
        },
        "id": "mMzigoVneduT",
        "outputId": "bc981484-dfac-4a42-a54c-7c991ee8d808"
      },
      "source": [
        "df4 = pd.read_csv(\"input.txt\") \r\n",
        "print(df4.head())"
      ],
      "execution_count": null,
      "outputs": [
        {
          "output_type": "stream",
          "text": [
            "    Latitude   Longitude Detection Date\n",
            "0  48.980994 -122.688503     2019-12-08\n",
            "1  48.971949 -122.700941     2019-10-30\n",
            "2  49.149394 -123.943134     2019-09-19\n",
            "3  48.955587 -122.661037     2020-05-27\n",
            "4  49.025831 -122.810653     2019-11-13\n"
          ],
          "name": "stdout"
        }
      ]
    },
    {
      "cell_type": "code",
      "metadata": {
        "colab": {
          "base_uri": "https://localhost:8080/"
        },
        "id": "FIaRPduZP2HZ",
        "outputId": "ae5e87ee-7840-4991-a03a-db2e5f983592"
      },
      "source": [
        "df4.index"
      ],
      "execution_count": null,
      "outputs": [
        {
          "output_type": "execute_result",
          "data": {
            "text/plain": [
              "RangeIndex(start=0, stop=14, step=1)"
            ]
          },
          "metadata": {
            "tags": []
          },
          "execution_count": 38
        }
      ]
    },
    {
      "cell_type": "code",
      "metadata": {
        "id": "HFKX3dQ6qcKr",
        "colab": {
          "base_uri": "https://localhost:8080/"
        },
        "outputId": "5369910f-1cf5-4349-8994-0247c474335c"
      },
      "source": [
        "%%bash\r\n",
        "pip install pyramid-arima"
      ],
      "execution_count": null,
      "outputs": [
        {
          "output_type": "stream",
          "text": [
            "Collecting pyramid-arima\n",
            "  Downloading https://files.pythonhosted.org/packages/5c/84/57422f2a6ade3161c586545e38b518ba1b7ab30ee4a4acc29110c0aba2bc/pyramid_arima-0.9.0-cp36-cp36m-manylinux1_x86_64.whl (597kB)\n",
            "Requirement already satisfied: statsmodels>=0.9.0 in /usr/local/lib/python3.6/dist-packages (from pyramid-arima) (0.10.2)\n",
            "Requirement already satisfied: numpy>=1.10 in /usr/local/lib/python3.6/dist-packages (from pyramid-arima) (1.19.5)\n",
            "Requirement already satisfied: Cython>=0.23 in /usr/local/lib/python3.6/dist-packages (from pyramid-arima) (0.29.21)\n",
            "Requirement already satisfied: pandas>=0.19 in /usr/local/lib/python3.6/dist-packages (from pyramid-arima) (1.1.5)\n",
            "Requirement already satisfied: scikit-learn>=0.17 in /usr/local/lib/python3.6/dist-packages (from pyramid-arima) (0.22.2.post1)\n",
            "Requirement already satisfied: scipy>=0.9 in /usr/local/lib/python3.6/dist-packages (from pyramid-arima) (1.4.1)\n",
            "Requirement already satisfied: patsy>=0.4.0 in /usr/local/lib/python3.6/dist-packages (from statsmodels>=0.9.0->pyramid-arima) (0.5.1)\n",
            "Requirement already satisfied: python-dateutil>=2.7.3 in /usr/local/lib/python3.6/dist-packages (from pandas>=0.19->pyramid-arima) (2.8.1)\n",
            "Requirement already satisfied: pytz>=2017.2 in /usr/local/lib/python3.6/dist-packages (from pandas>=0.19->pyramid-arima) (2018.9)\n",
            "Requirement already satisfied: joblib>=0.11 in /usr/local/lib/python3.6/dist-packages (from scikit-learn>=0.17->pyramid-arima) (1.0.0)\n",
            "Requirement already satisfied: six in /usr/local/lib/python3.6/dist-packages (from patsy>=0.4.0->statsmodels>=0.9.0->pyramid-arima) (1.15.0)\n",
            "Installing collected packages: pyramid-arima\n",
            "Successfully installed pyramid-arima-0.9.0\n"
          ],
          "name": "stdout"
        }
      ]
    },
    {
      "cell_type": "code",
      "metadata": {
        "id": "Qv6_aKScmQD6",
        "colab": {
          "base_uri": "https://localhost:8080/",
          "height": 626
        },
        "outputId": "7bdcd4f8-50a6-4fe3-abb4-eaaccd2cee6c"
      },
      "source": [
        "from pyramid.arima import auto_arima\r\n",
        "import re\r\n",
        "dflist = []\r\n",
        "\r\n",
        "for index, row in df4.iterrows():\r\n",
        "  match = re.search(r'\\d{4}-\\d{1,2}-\\d{1,2}', str(row[\"Detection Date\"]))\r\n",
        "  tmp = datetime.strptime(match.group(), '%Y-%m-%d').date()\r\n",
        "  month = tmp.month\r\n",
        "  year = tmp.year\r\n",
        "\r\n",
        "  newmonth = float(month)\r\n",
        "  if year == 2020:\r\n",
        "    newmonth += 12\r\n",
        "  dflist.append(newmonth)\r\n",
        "\r\n",
        "c={\"a\" :dflist}\r\n",
        "data=DataFrame(c)\r\n",
        "\r\n",
        "df4.drop(columns=\"Detection Date\", inplace=True)\r\n",
        "train = pd.concat([df4, data], axis=1)\r\n",
        "#　print(train)\r\n",
        "train1 = df4.drop(columns=[\"Latitude\"])\r\n",
        "train2 = df4.drop(columns=[\"Longitude\"])"
      ],
      "execution_count": null,
      "outputs": [
        {
          "output_type": "error",
          "ename": "KeyError",
          "evalue": "ignored",
          "traceback": [
            "\u001b[0;31m---------------------------------------------------------------------------\u001b[0m",
            "\u001b[0;31mKeyError\u001b[0m                                  Traceback (most recent call last)",
            "\u001b[0;32m/usr/local/lib/python3.6/dist-packages/pandas/core/indexes/base.py\u001b[0m in \u001b[0;36mget_loc\u001b[0;34m(self, key, method, tolerance)\u001b[0m\n\u001b[1;32m   2897\u001b[0m             \u001b[0;32mtry\u001b[0m\u001b[0;34m:\u001b[0m\u001b[0;34m\u001b[0m\u001b[0;34m\u001b[0m\u001b[0m\n\u001b[0;32m-> 2898\u001b[0;31m                 \u001b[0;32mreturn\u001b[0m \u001b[0mself\u001b[0m\u001b[0;34m.\u001b[0m\u001b[0m_engine\u001b[0m\u001b[0;34m.\u001b[0m\u001b[0mget_loc\u001b[0m\u001b[0;34m(\u001b[0m\u001b[0mcasted_key\u001b[0m\u001b[0;34m)\u001b[0m\u001b[0;34m\u001b[0m\u001b[0;34m\u001b[0m\u001b[0m\n\u001b[0m\u001b[1;32m   2899\u001b[0m             \u001b[0;32mexcept\u001b[0m \u001b[0mKeyError\u001b[0m \u001b[0;32mas\u001b[0m \u001b[0merr\u001b[0m\u001b[0;34m:\u001b[0m\u001b[0;34m\u001b[0m\u001b[0;34m\u001b[0m\u001b[0m\n",
            "\u001b[0;32mpandas/_libs/index.pyx\u001b[0m in \u001b[0;36mpandas._libs.index.IndexEngine.get_loc\u001b[0;34m()\u001b[0m\n",
            "\u001b[0;32mpandas/_libs/index.pyx\u001b[0m in \u001b[0;36mpandas._libs.index.IndexEngine.get_loc\u001b[0;34m()\u001b[0m\n",
            "\u001b[0;32mpandas/_libs/hashtable_class_helper.pxi\u001b[0m in \u001b[0;36mpandas._libs.hashtable.PyObjectHashTable.get_item\u001b[0;34m()\u001b[0m\n",
            "\u001b[0;32mpandas/_libs/hashtable_class_helper.pxi\u001b[0m in \u001b[0;36mpandas._libs.hashtable.PyObjectHashTable.get_item\u001b[0;34m()\u001b[0m\n",
            "\u001b[0;31mKeyError\u001b[0m: 'Detection Date'",
            "\nThe above exception was the direct cause of the following exception:\n",
            "\u001b[0;31mKeyError\u001b[0m                                  Traceback (most recent call last)",
            "\u001b[0;32m<ipython-input-47-cab4a4c4e75e>\u001b[0m in \u001b[0;36m<module>\u001b[0;34m()\u001b[0m\n\u001b[1;32m      4\u001b[0m \u001b[0;34m\u001b[0m\u001b[0m\n\u001b[1;32m      5\u001b[0m \u001b[0;32mfor\u001b[0m \u001b[0mindex\u001b[0m\u001b[0;34m,\u001b[0m \u001b[0mrow\u001b[0m \u001b[0;32min\u001b[0m \u001b[0mdf4\u001b[0m\u001b[0;34m.\u001b[0m\u001b[0miterrows\u001b[0m\u001b[0;34m(\u001b[0m\u001b[0;34m)\u001b[0m\u001b[0;34m:\u001b[0m\u001b[0;34m\u001b[0m\u001b[0;34m\u001b[0m\u001b[0m\n\u001b[0;32m----> 6\u001b[0;31m   \u001b[0mmatch\u001b[0m \u001b[0;34m=\u001b[0m \u001b[0mre\u001b[0m\u001b[0;34m.\u001b[0m\u001b[0msearch\u001b[0m\u001b[0;34m(\u001b[0m\u001b[0;34mr'\\d{4}-\\d{1,2}-\\d{1,2}'\u001b[0m\u001b[0;34m,\u001b[0m \u001b[0mstr\u001b[0m\u001b[0;34m(\u001b[0m\u001b[0mrow\u001b[0m\u001b[0;34m[\u001b[0m\u001b[0;34m\"Detection Date\"\u001b[0m\u001b[0;34m]\u001b[0m\u001b[0;34m)\u001b[0m\u001b[0;34m)\u001b[0m\u001b[0;34m\u001b[0m\u001b[0;34m\u001b[0m\u001b[0m\n\u001b[0m\u001b[1;32m      7\u001b[0m   \u001b[0mtmp\u001b[0m \u001b[0;34m=\u001b[0m \u001b[0mdatetime\u001b[0m\u001b[0;34m.\u001b[0m\u001b[0mstrptime\u001b[0m\u001b[0;34m(\u001b[0m\u001b[0mmatch\u001b[0m\u001b[0;34m.\u001b[0m\u001b[0mgroup\u001b[0m\u001b[0;34m(\u001b[0m\u001b[0;34m)\u001b[0m\u001b[0;34m,\u001b[0m \u001b[0;34m'%Y-%m-%d'\u001b[0m\u001b[0;34m)\u001b[0m\u001b[0;34m.\u001b[0m\u001b[0mdate\u001b[0m\u001b[0;34m(\u001b[0m\u001b[0;34m)\u001b[0m\u001b[0;34m\u001b[0m\u001b[0;34m\u001b[0m\u001b[0m\n\u001b[1;32m      8\u001b[0m   \u001b[0mmonth\u001b[0m \u001b[0;34m=\u001b[0m \u001b[0mtmp\u001b[0m\u001b[0;34m.\u001b[0m\u001b[0mmonth\u001b[0m\u001b[0;34m\u001b[0m\u001b[0;34m\u001b[0m\u001b[0m\n",
            "\u001b[0;32m/usr/local/lib/python3.6/dist-packages/pandas/core/series.py\u001b[0m in \u001b[0;36m__getitem__\u001b[0;34m(self, key)\u001b[0m\n\u001b[1;32m    880\u001b[0m \u001b[0;34m\u001b[0m\u001b[0m\n\u001b[1;32m    881\u001b[0m         \u001b[0;32melif\u001b[0m \u001b[0mkey_is_scalar\u001b[0m\u001b[0;34m:\u001b[0m\u001b[0;34m\u001b[0m\u001b[0;34m\u001b[0m\u001b[0m\n\u001b[0;32m--> 882\u001b[0;31m             \u001b[0;32mreturn\u001b[0m \u001b[0mself\u001b[0m\u001b[0;34m.\u001b[0m\u001b[0m_get_value\u001b[0m\u001b[0;34m(\u001b[0m\u001b[0mkey\u001b[0m\u001b[0;34m)\u001b[0m\u001b[0;34m\u001b[0m\u001b[0;34m\u001b[0m\u001b[0m\n\u001b[0m\u001b[1;32m    883\u001b[0m \u001b[0;34m\u001b[0m\u001b[0m\n\u001b[1;32m    884\u001b[0m         \u001b[0;32mif\u001b[0m \u001b[0mis_hashable\u001b[0m\u001b[0;34m(\u001b[0m\u001b[0mkey\u001b[0m\u001b[0;34m)\u001b[0m\u001b[0;34m:\u001b[0m\u001b[0;34m\u001b[0m\u001b[0;34m\u001b[0m\u001b[0m\n",
            "\u001b[0;32m/usr/local/lib/python3.6/dist-packages/pandas/core/series.py\u001b[0m in \u001b[0;36m_get_value\u001b[0;34m(self, label, takeable)\u001b[0m\n\u001b[1;32m    988\u001b[0m \u001b[0;34m\u001b[0m\u001b[0m\n\u001b[1;32m    989\u001b[0m         \u001b[0;31m# Similar to Index.get_value, but we do not fall back to positional\u001b[0m\u001b[0;34m\u001b[0m\u001b[0;34m\u001b[0m\u001b[0;34m\u001b[0m\u001b[0m\n\u001b[0;32m--> 990\u001b[0;31m         \u001b[0mloc\u001b[0m \u001b[0;34m=\u001b[0m \u001b[0mself\u001b[0m\u001b[0;34m.\u001b[0m\u001b[0mindex\u001b[0m\u001b[0;34m.\u001b[0m\u001b[0mget_loc\u001b[0m\u001b[0;34m(\u001b[0m\u001b[0mlabel\u001b[0m\u001b[0;34m)\u001b[0m\u001b[0;34m\u001b[0m\u001b[0;34m\u001b[0m\u001b[0m\n\u001b[0m\u001b[1;32m    991\u001b[0m         \u001b[0;32mreturn\u001b[0m \u001b[0mself\u001b[0m\u001b[0;34m.\u001b[0m\u001b[0mindex\u001b[0m\u001b[0;34m.\u001b[0m\u001b[0m_get_values_for_loc\u001b[0m\u001b[0;34m(\u001b[0m\u001b[0mself\u001b[0m\u001b[0;34m,\u001b[0m \u001b[0mloc\u001b[0m\u001b[0;34m,\u001b[0m \u001b[0mlabel\u001b[0m\u001b[0;34m)\u001b[0m\u001b[0;34m\u001b[0m\u001b[0;34m\u001b[0m\u001b[0m\n\u001b[1;32m    992\u001b[0m \u001b[0;34m\u001b[0m\u001b[0m\n",
            "\u001b[0;32m/usr/local/lib/python3.6/dist-packages/pandas/core/indexes/base.py\u001b[0m in \u001b[0;36mget_loc\u001b[0;34m(self, key, method, tolerance)\u001b[0m\n\u001b[1;32m   2898\u001b[0m                 \u001b[0;32mreturn\u001b[0m \u001b[0mself\u001b[0m\u001b[0;34m.\u001b[0m\u001b[0m_engine\u001b[0m\u001b[0;34m.\u001b[0m\u001b[0mget_loc\u001b[0m\u001b[0;34m(\u001b[0m\u001b[0mcasted_key\u001b[0m\u001b[0;34m)\u001b[0m\u001b[0;34m\u001b[0m\u001b[0;34m\u001b[0m\u001b[0m\n\u001b[1;32m   2899\u001b[0m             \u001b[0;32mexcept\u001b[0m \u001b[0mKeyError\u001b[0m \u001b[0;32mas\u001b[0m \u001b[0merr\u001b[0m\u001b[0;34m:\u001b[0m\u001b[0;34m\u001b[0m\u001b[0;34m\u001b[0m\u001b[0m\n\u001b[0;32m-> 2900\u001b[0;31m                 \u001b[0;32mraise\u001b[0m \u001b[0mKeyError\u001b[0m\u001b[0;34m(\u001b[0m\u001b[0mkey\u001b[0m\u001b[0;34m)\u001b[0m \u001b[0;32mfrom\u001b[0m \u001b[0merr\u001b[0m\u001b[0;34m\u001b[0m\u001b[0;34m\u001b[0m\u001b[0m\n\u001b[0m\u001b[1;32m   2901\u001b[0m \u001b[0;34m\u001b[0m\u001b[0m\n\u001b[1;32m   2902\u001b[0m         \u001b[0;32mif\u001b[0m \u001b[0mtolerance\u001b[0m \u001b[0;32mis\u001b[0m \u001b[0;32mnot\u001b[0m \u001b[0;32mNone\u001b[0m\u001b[0;34m:\u001b[0m\u001b[0;34m\u001b[0m\u001b[0;34m\u001b[0m\u001b[0m\n",
            "\u001b[0;31mKeyError\u001b[0m: 'Detection Date'"
          ]
        }
      ]
    },
    {
      "cell_type": "code",
      "metadata": {
        "id": "zBTQyfctRMyD"
      },
      "source": [
        "train = train1[:int(0.7*(len(data)))]\r\n",
        "valid = train1[int(0.7*(len(data))):]"
      ],
      "execution_count": null,
      "outputs": []
    },
    {
      "cell_type": "code",
      "metadata": {
        "colab": {
          "base_uri": "https://localhost:8080/",
          "height": 195
        },
        "id": "_0PIDukIQV0M",
        "outputId": "cde2ae35-0e68-4e50-f69f-4943ef1532c8"
      },
      "source": [
        "train1.head()"
      ],
      "execution_count": null,
      "outputs": [
        {
          "output_type": "execute_result",
          "data": {
            "text/html": [
              "<div>\n",
              "<style scoped>\n",
              "    .dataframe tbody tr th:only-of-type {\n",
              "        vertical-align: middle;\n",
              "    }\n",
              "\n",
              "    .dataframe tbody tr th {\n",
              "        vertical-align: top;\n",
              "    }\n",
              "\n",
              "    .dataframe thead th {\n",
              "        text-align: right;\n",
              "    }\n",
              "</style>\n",
              "<table border=\"1\" class=\"dataframe\">\n",
              "  <thead>\n",
              "    <tr style=\"text-align: right;\">\n",
              "      <th></th>\n",
              "      <th>Longitude</th>\n",
              "    </tr>\n",
              "  </thead>\n",
              "  <tbody>\n",
              "    <tr>\n",
              "      <th>0</th>\n",
              "      <td>-122.688503</td>\n",
              "    </tr>\n",
              "    <tr>\n",
              "      <th>1</th>\n",
              "      <td>-122.700941</td>\n",
              "    </tr>\n",
              "    <tr>\n",
              "      <th>2</th>\n",
              "      <td>-123.943134</td>\n",
              "    </tr>\n",
              "    <tr>\n",
              "      <th>3</th>\n",
              "      <td>-122.661037</td>\n",
              "    </tr>\n",
              "    <tr>\n",
              "      <th>4</th>\n",
              "      <td>-122.810653</td>\n",
              "    </tr>\n",
              "  </tbody>\n",
              "</table>\n",
              "</div>"
            ],
            "text/plain": [
              "    Longitude\n",
              "0 -122.688503\n",
              "1 -122.700941\n",
              "2 -123.943134\n",
              "3 -122.661037\n",
              "4 -122.810653"
            ]
          },
          "metadata": {
            "tags": []
          },
          "execution_count": 48
        }
      ]
    },
    {
      "cell_type": "code",
      "metadata": {
        "colab": {
          "base_uri": "https://localhost:8080/",
          "height": 195
        },
        "id": "ZhQRjcW5Q35v",
        "outputId": "0f07afec-9e49-4a4a-a8d5-2d3e88b9e2ea"
      },
      "source": [
        "train2.head()"
      ],
      "execution_count": null,
      "outputs": [
        {
          "output_type": "execute_result",
          "data": {
            "text/html": [
              "<div>\n",
              "<style scoped>\n",
              "    .dataframe tbody tr th:only-of-type {\n",
              "        vertical-align: middle;\n",
              "    }\n",
              "\n",
              "    .dataframe tbody tr th {\n",
              "        vertical-align: top;\n",
              "    }\n",
              "\n",
              "    .dataframe thead th {\n",
              "        text-align: right;\n",
              "    }\n",
              "</style>\n",
              "<table border=\"1\" class=\"dataframe\">\n",
              "  <thead>\n",
              "    <tr style=\"text-align: right;\">\n",
              "      <th></th>\n",
              "      <th>Latitude</th>\n",
              "    </tr>\n",
              "  </thead>\n",
              "  <tbody>\n",
              "    <tr>\n",
              "      <th>0</th>\n",
              "      <td>48.980994</td>\n",
              "    </tr>\n",
              "    <tr>\n",
              "      <th>1</th>\n",
              "      <td>48.971949</td>\n",
              "    </tr>\n",
              "    <tr>\n",
              "      <th>2</th>\n",
              "      <td>49.149394</td>\n",
              "    </tr>\n",
              "    <tr>\n",
              "      <th>3</th>\n",
              "      <td>48.955587</td>\n",
              "    </tr>\n",
              "    <tr>\n",
              "      <th>4</th>\n",
              "      <td>49.025831</td>\n",
              "    </tr>\n",
              "  </tbody>\n",
              "</table>\n",
              "</div>"
            ],
            "text/plain": [
              "    Latitude\n",
              "0  48.980994\n",
              "1  48.971949\n",
              "2  49.149394\n",
              "3  48.955587\n",
              "4  49.025831"
            ]
          },
          "metadata": {
            "tags": []
          },
          "execution_count": 49
        }
      ]
    },
    {
      "cell_type": "code",
      "metadata": {
        "colab": {
          "base_uri": "https://localhost:8080/",
          "height": 386
        },
        "id": "m1wlw2MrGMtg",
        "outputId": "a1052d31-b029-40a7-f6df-808a76c12f78"
      },
      "source": [
        "model = auto_arima(train1, trace=True, error_action='ignore', suppress_warnings=True)\r\n",
        "model.fit(train1)\r\n",
        " \r\n",
        "forecast = model.predict(n_periods=len(valid))\r\n",
        "forecast = pd.DataFrame(forecast,index = valid.index,columns=['Prediction'])\r\n",
        " \r\n",
        "#plot the predictions for validation set\r\n",
        "plt.plot(train, label='Train')\r\n",
        "plt.plot(valid, label='Valid')\r\n",
        "plt.plot(forecast, label='Prediction')\r\n",
        "plt.show()"
      ],
      "execution_count": null,
      "outputs": [
        {
          "output_type": "stream",
          "text": [
            "Fit ARIMA: order=(2, 0, 2) seasonal_order=(0, 0, 0, 1); AIC=22.266, BIC=26.100, Fit time=0.180 seconds\n",
            "Fit ARIMA: order=(0, 0, 0) seasonal_order=(0, 0, 0, 1); AIC=14.273, BIC=15.551, Fit time=0.021 seconds\n",
            "Fit ARIMA: order=(1, 0, 0) seasonal_order=(0, 0, 0, 1); AIC=16.273, BIC=18.190, Fit time=0.041 seconds\n",
            "Fit ARIMA: order=(0, 0, 1) seasonal_order=(0, 0, 0, 1); AIC=16.273, BIC=18.190, Fit time=0.050 seconds\n",
            "Fit ARIMA: order=(1, 0, 1) seasonal_order=(0, 0, 0, 1); AIC=18.273, BIC=20.829, Fit time=0.102 seconds\n",
            "Total fit time: 0.399 seconds\n"
          ],
          "name": "stdout"
        },
        {
          "output_type": "display_data",
          "data": {
            "image/png": "[encoded data removed]",
            "text/plain": [
              "<Figure size 432x288 with 1 Axes>"
            ]
          },
          "metadata": {
            "tags": [],
            "needs_background": "light"
          }
        }
      ]
    },
    {
      "cell_type": "code",
      "metadata": {
        "id": "UzYek52z8cDM",
        "colab": {
          "base_uri": "https://localhost:8080/"
        },
        "outputId": "68592630-1d12-4ae7-ddb2-4ec0c4955656"
      },
      "source": [
        "from math import sqrt\r\n",
        "from sklearn.metrics import mean_squared_error\r\n",
        " \r\n",
        "rms = sqrt(mean_squared_error(valid,forecast))\r\n",
        "print(rms)"
      ],
      "execution_count": null,
      "outputs": [
        {
          "output_type": "stream",
          "text": [
            "0.15099011404441381\n"
          ],
          "name": "stdout"
        }
      ]
    },
    {
      "cell_type": "code",
      "metadata": {
        "id": "UPvflPJ5OPIE"
      },
      "source": [
        "from pyramid.arima import auto_arima"
      ],
      "execution_count": null,
      "outputs": []
    },
    {
      "cell_type": "code",
      "metadata": {
        "id": "2EKYremLPpJ8"
      },
      "source": [
        ""
      ],
      "execution_count": null,
      "outputs": []
    }
  ]
}